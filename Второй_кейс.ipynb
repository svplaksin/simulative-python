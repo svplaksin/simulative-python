{
  "nbformat": 4,
  "nbformat_minor": 0,
  "metadata": {
    "colab": {
      "provenance": [],
      "include_colab_link": true
    },
    "kernelspec": {
      "name": "python3",
      "display_name": "Python 3"
    },
    "language_info": {
      "name": "python"
    }
  },
  "cells": [
    {
      "cell_type": "markdown",
      "metadata": {
        "id": "view-in-github",
        "colab_type": "text"
      },
      "source": [
        "<a href=\"https://colab.research.google.com/github/svplaksin/simulative-python/blob/main/%D0%92%D1%82%D0%BE%D1%80%D0%BE%D0%B9_%D0%BA%D0%B5%D0%B9%D1%81.ipynb\" target=\"_parent\"><img src=\"https://colab.research.google.com/assets/colab-badge.svg\" alt=\"Open In Colab\"/></a>"
      ]
    },
    {
      "cell_type": "markdown",
      "source": [
        "## 2 кейс\n",
        "\n",
        "**Соберите данные из Google Sheets и напишите функцию `generate_report`, которая принимает три списка (данные с каждого листа в Google Sheets) и сохраняет отчет в файл `student_debt_report.txt`**"
      ],
      "metadata": {
        "id": "kilnMAFvwPlm"
      }
    },
    {
      "cell_type": "markdown",
      "source": [
        "**Важно**\n",
        "\n",
        "Перед началом решения задачи выполните следующую ячейку - в ней скачиваются нужные файлы"
      ],
      "metadata": {
        "id": "Ese_hT_YwxHw"
      }
    },
    {
      "cell_type": "code",
      "execution_count": 1,
      "metadata": {
        "id": "84h9WDU8ngRf",
        "colab": {
          "base_uri": "https://localhost:8080/"
        },
        "outputId": "b6be17f9-5416-42b9-99c9-460baffed494"
      },
      "outputs": [
        {
          "output_type": "stream",
          "name": "stdout",
          "text": [
            "--2025-08-17 05:21:31--  https://gist.github.com/Vs8th/d0bd4bdbbb58c8ae4f70a2a503e2d5fc/raw/creds.json\n",
            "Resolving gist.github.com (gist.github.com)... 20.27.177.113\n",
            "Connecting to gist.github.com (gist.github.com)|20.27.177.113|:443... connected.\n",
            "HTTP request sent, awaiting response... 301 Moved Permanently\n",
            "Location: https://gist.githubusercontent.com/Vs8th/d0bd4bdbbb58c8ae4f70a2a503e2d5fc/raw/creds.json [following]\n",
            "--2025-08-17 05:21:31--  https://gist.githubusercontent.com/Vs8th/d0bd4bdbbb58c8ae4f70a2a503e2d5fc/raw/creds.json\n",
            "Resolving gist.githubusercontent.com (gist.githubusercontent.com)... 185.199.110.133, 185.199.109.133, 185.199.108.133, ...\n",
            "Connecting to gist.githubusercontent.com (gist.githubusercontent.com)|185.199.110.133|:443... connected.\n",
            "HTTP request sent, awaiting response... 200 OK\n",
            "Length: 2358 (2.3K) [text/plain]\n",
            "Saving to: ‘creds.json’\n",
            "\n",
            "creds.json          100%[===================>]   2.30K  --.-KB/s    in 0s      \n",
            "\n",
            "2025-08-17 05:21:31 (30.2 MB/s) - ‘creds.json’ saved [2358/2358]\n",
            "\n",
            "--2025-08-17 05:21:31--  https://gist.github.com/Vs8th/39c5deed0f5539d781f00328f7fd4fe0/raw/result.txt\n",
            "Resolving gist.github.com (gist.github.com)... 20.27.177.113\n",
            "Connecting to gist.github.com (gist.github.com)|20.27.177.113|:443... connected.\n",
            "HTTP request sent, awaiting response... 301 Moved Permanently\n",
            "Location: https://gist.githubusercontent.com/Vs8th/39c5deed0f5539d781f00328f7fd4fe0/raw/result.txt [following]\n",
            "--2025-08-17 05:21:32--  https://gist.githubusercontent.com/Vs8th/39c5deed0f5539d781f00328f7fd4fe0/raw/result.txt\n",
            "Resolving gist.githubusercontent.com (gist.githubusercontent.com)... 185.199.110.133, 185.199.109.133, 185.199.108.133, ...\n",
            "Connecting to gist.githubusercontent.com (gist.githubusercontent.com)|185.199.110.133|:443... connected.\n",
            "HTTP request sent, awaiting response... 200 OK\n",
            "Length: 198 [text/plain]\n",
            "Saving to: ‘result.txt’\n",
            "\n",
            "result.txt          100%[===================>]     198  --.-KB/s    in 0s      \n",
            "\n",
            "2025-08-17 05:21:32 (9.20 MB/s) - ‘result.txt’ saved [198/198]\n",
            "\n"
          ]
        }
      ],
      "source": [
        "!wget https://gist.github.com/Vs8th/d0bd4bdbbb58c8ae4f70a2a503e2d5fc/raw/creds.json\n",
        "\n",
        "!wget https://gist.github.com/Vs8th/39c5deed0f5539d781f00328f7fd4fe0/raw/result.txt"
      ]
    },
    {
      "cell_type": "markdown",
      "source": [
        "Чтобы посмотреть как выглядят сами гугл таблицы в оригинале - можете перейти по [ссылке](https://docs.google.com/spreadsheets/d/1hRnw-PEftF0J-6KY7InlILVwWdkJu4vJiGwRjuE_P4U/edit?usp=sharing) и изучить."
      ],
      "metadata": {
        "id": "4DrLBsjgxAEA"
      }
    },
    {
      "cell_type": "markdown",
      "source": [
        "Небольшое описание столбцов в таблицах:  \n",
        "**Лист1:** `student_id` - айди студента; `student_name` - имя студента; `installment` (Y/N) - факт наличия рассрочки у студента (Y - рассрочка есть, N - рассрочки нет).  \n",
        "**Лист2:** `student_id` - айди студента; `last_payment_date` - дата последней полученной оплаты; `expected_payment_date` - дата, в которую ожидаем следующий платеж (рассчитывается от даты последнего платежа).  \n",
        "**Лист3:** `student_id` - айди студента; `already_payed_amount` - уже выплаченная часть рассрочки; `left_to_pay` - оставшаяся (невыплаченная) часть; `one-time_payment` - единоразовый платеж; `installment_amount` - общая сумма, которая бралась в рассрочку."
      ],
      "metadata": {
        "id": "n9JJRgd4xLC7"
      }
    },
    {
      "cell_type": "markdown",
      "source": [
        "Как примерно должен выглядеть результат:"
      ],
      "metadata": {
        "id": "DzT-pVSOxDKF"
      }
    },
    {
      "cell_type": "code",
      "source": [
        "with open('result.txt') as f:\n",
        "  print(f.read())"
      ],
      "metadata": {
        "id": "yvYYOXrBxChi",
        "colab": {
          "base_uri": "https://localhost:8080/"
        },
        "outputId": "37b47760-b379-424e-aa57-917544a75503"
      },
      "execution_count": 2,
      "outputs": [
        {
          "output_type": "stream",
          "name": "stdout",
          "text": [
            "Студент Иванов У.У. - долг 100000 рублей\n",
            "Студент Петров Е.Е. - долг 250000 рублей\n",
            "Студент Сидоров И.И. - долг 10000 рублей\n"
          ]
        }
      ]
    },
    {
      "cell_type": "code",
      "source": [
        "#@title Если возникнут трудности с определением `scope`, подсказка:\n",
        "\n",
        "scope = ['https://www.googleapis.com/auth/spreadsheets.readonly',\n",
        "         'https://www.googleapis.com/auth/drive']"
      ],
      "metadata": {
        "id": "SOZfpY8OnJGl"
      },
      "execution_count": null,
      "outputs": []
    },
    {
      "cell_type": "markdown",
      "source": [
        "**Примечание**\n",
        "\n",
        "Считать должников необходимо на 1 марта 2023 года. То есть определяя количество просроченных платежей, мы определяем их количество не на настоящую дату, а на **1 марта 2023 года**. А периоды внесения платежей для всех студентов одинаковы - **6 месяцев** (183 дня).\n",
        "\n",
        "То есть, если ожидаемый платеж должен был пройти 3 февраля 2022 года, то к 1 марта 2023 студент просрочил уже три платежа (3 февраля 2022, 3 августа 2022 и 3 февраля 2023). При расчетах отталкивайтесь от даты ожидаемого платежа, разницу между платежами берите 183 дня."
      ],
      "metadata": {
        "id": "gJh58XYTk181"
      }
    },
    {
      "cell_type": "markdown",
      "source": [
        "**Решение**\n",
        "\n",
        "Напишите свое решение ниже"
      ],
      "metadata": {
        "id": "zvpm-3CmxH5l"
      }
    },
    {
      "cell_type": "code",
      "source": [
        "import gspread\n",
        "from oauth2client.service_account import ServiceAccountCredentials\n",
        "from datetime import timedelta, datetime, date\n",
        "# Указываем необходимые права доступа к таблицам\n",
        "scope = ['https://www.googleapis.com/auth/spreadsheets.readonly',\n",
        "         'https://www.googleapis.com/auth/drive']\n",
        "\n",
        "# Загружаем ключи аутентификации из файла json\n",
        "creds = ServiceAccountCredentials.from_json_keyfile_name('creds.json', scope)\n",
        "\n",
        "# Авторизуемся в Google Sheets API\n",
        "client = gspread.authorize(creds)\n",
        "\n",
        "worksheet = client.open_by_key(\"1hRnw-PEftF0J-6KY7InlILVwWdkJu4vJiGwRjuE_P4U\")"
      ],
      "metadata": {
        "id": "J1CE_k693Tsh"
      },
      "execution_count": 145,
      "outputs": []
    },
    {
      "cell_type": "code",
      "source": [
        "TARGET_DATE = date(2023, 3, 1) # Смотрим должников на 01.03.2023\n",
        "# Формируем списки для формирования отчета\n",
        "names, dates, payments = [lst.get_all_values() for lst in worksheet.worksheets()]\n",
        "\n",
        "def generate_report(names, dates, payments):\n",
        "  # Создаем словарь {id клиента: ФИО}\n",
        "  names = {int(name[0]): name[1] for name in names[1:] if name[-1] == 'Y'}\n",
        "  # Формируем словарь {id клиента: Дата ожидаемого платежа} для должников\n",
        "  dates = {int(day[0]): datetime.strptime(day[2], '%d.%m.%Y').date()\n",
        "           for day in dates[1:] # Убираем заголовки\n",
        "           if datetime.strptime(day[2], '%d.%m.%Y').date() < date(2023, 3, 1)} # Если дата < 01.03.2023,\n",
        "  # Формируем словарь с общей суммой долга и единовременным платежом\n",
        "  payments = {int(pay[0]): {'left_to_pay': int(pay[2]),\n",
        "                            'one-time_payment': int(pay[3])\n",
        "                            }\n",
        "              for pay in payments[1:] # Убираем заголовки\n",
        "              if int(pay[0]) in dates.keys()} # Только для должников\n",
        "  # Формируем словарь с количеством просроченных периодов для каждого должника\n",
        "  periods = {k:(TARGET_DATE - dates[k]).days // 183 + 1 for k in dates.keys()}\n",
        "  # Формируем список строк с долгами.\n",
        "  # Размер долга - это минимум из общей суммы долга и произведением количества\n",
        "  # просроченных периодов на размер единовременного платежа\n",
        "  report_list = [f\"Студент {names[i]} - долг {min(payments[i]['left_to_pay'], periods[i] * payments[i]['one-time_payment'])} рублей\" for i in dates.keys()]\n",
        "\n",
        "  with open('student_debt_report.txt', 'w') as f:\n",
        "    f.writelines('\\n'.join(report_list))"
      ],
      "metadata": {
        "id": "qvNNJlNNSaOQ"
      },
      "execution_count": 146,
      "outputs": []
    },
    {
      "cell_type": "code",
      "source": [
        "generate_report(names, dates, payments)"
      ],
      "metadata": {
        "id": "GriXvnkZcdfm"
      },
      "execution_count": 147,
      "outputs": []
    },
    {
      "cell_type": "markdown",
      "source": [
        "✏️ ✏️ ✏️\n",
        "\n",
        "**Проверка**\n",
        "\n",
        "Чтобы проверить свое решение, запустите код в следующих ячейках"
      ],
      "metadata": {
        "id": "VSZxSfjWxeZr"
      }
    },
    {
      "cell_type": "code",
      "source": [
        "# Здесь будет скачиваться файл с эталонным ответом\n",
        "\n",
        "!wget https://gist.github.com/Vs8th/63832f093f4db8d8b251ba5d39571f3d/raw/student_debt.txt\n",
        "\n",
        "import pandas as pd\n",
        "\n",
        "user_answer = pd.read_csv('student_debt_report.txt')\n",
        "correct_answer = pd.read_csv('student_debt.txt')"
      ],
      "metadata": {
        "id": "nbDL6rllxe4X",
        "colab": {
          "base_uri": "https://localhost:8080/"
        },
        "outputId": "bb4547cd-ec8b-436f-c61c-11f2518d3c69"
      },
      "execution_count": 148,
      "outputs": [
        {
          "output_type": "stream",
          "name": "stdout",
          "text": [
            "--2025-08-17 10:53:35--  https://gist.github.com/Vs8th/63832f093f4db8d8b251ba5d39571f3d/raw/student_debt.txt\n",
            "Resolving gist.github.com (gist.github.com)... 20.27.177.113\n",
            "Connecting to gist.github.com (gist.github.com)|20.27.177.113|:443... connected.\n",
            "HTTP request sent, awaiting response... 301 Moved Permanently\n",
            "Location: https://gist.githubusercontent.com/Vs8th/63832f093f4db8d8b251ba5d39571f3d/raw/student_debt.txt [following]\n",
            "--2025-08-17 10:53:35--  https://gist.githubusercontent.com/Vs8th/63832f093f4db8d8b251ba5d39571f3d/raw/student_debt.txt\n",
            "Resolving gist.githubusercontent.com (gist.githubusercontent.com)... 185.199.109.133, 185.199.110.133, 185.199.108.133, ...\n",
            "Connecting to gist.githubusercontent.com (gist.githubusercontent.com)|185.199.109.133|:443... connected.\n",
            "HTTP request sent, awaiting response... 200 OK\n",
            "Length: 11325 (11K) [text/plain]\n",
            "Saving to: ‘student_debt.txt.1’\n",
            "\n",
            "student_debt.txt.1  100%[===================>]  11.06K  --.-KB/s    in 0.001s  \n",
            "\n",
            "2025-08-17 10:53:35 (13.0 MB/s) - ‘student_debt.txt.1’ saved [11325/11325]\n",
            "\n"
          ]
        }
      ]
    },
    {
      "cell_type": "code",
      "source": [
        "try:\n",
        "  assert (user_answer == correct_answer).all().all(), 'Ответы не совпадают'\n",
        "  assert user_answer.columns.equals(correct_answer.columns), 'Названия столбцов не совпадают'\n",
        "except Exception as err:\n",
        "  raise AssertionError(f'При проверке возникла ошибка {repr(err)}')\n",
        "else:\n",
        "  print('Поздравляем, Вы справились и успешно прошли все проверки!!')"
      ],
      "metadata": {
        "id": "gMqsbz7Wxm-G",
        "colab": {
          "base_uri": "https://localhost:8080/"
        },
        "outputId": "bb37e1db-4c3b-4d04-9a31-d1ec00f7f29c"
      },
      "execution_count": 149,
      "outputs": [
        {
          "output_type": "stream",
          "name": "stdout",
          "text": [
            "Поздравляем, Вы справились и успешно прошли все проверки!!\n"
          ]
        }
      ]
    },
    {
      "cell_type": "code",
      "source": [],
      "metadata": {
        "id": "8xojV89mqdr2"
      },
      "execution_count": null,
      "outputs": []
    }
  ]
}