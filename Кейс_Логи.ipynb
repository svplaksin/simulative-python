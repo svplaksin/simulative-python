{
  "nbformat": 4,
  "nbformat_minor": 0,
  "metadata": {
    "colab": {
      "provenance": [],
      "include_colab_link": true
    },
    "kernelspec": {
      "name": "python3",
      "display_name": "Python 3"
    },
    "language_info": {
      "name": "python"
    }
  },
  "cells": [
    {
      "cell_type": "markdown",
      "metadata": {
        "id": "view-in-github",
        "colab_type": "text"
      },
      "source": [
        "<a href=\"https://colab.research.google.com/github/svplaksin/simulative-python/blob/main/%D0%9A%D0%B5%D0%B9%D1%81_%D0%9B%D0%BE%D0%B3%D0%B8.ipynb\" target=\"_parent\"><img src=\"https://colab.research.google.com/assets/colab-badge.svg\" alt=\"Open In Colab\"/></a>"
      ]
    },
    {
      "cell_type": "markdown",
      "source": [
        "## **1 кейс**\n",
        "\n",
        "**Работа с логами**"
      ],
      "metadata": {
        "id": "XUqCUBW5fUST"
      }
    },
    {
      "cell_type": "markdown",
      "source": [
        "**Важно**\n",
        "\n",
        "Перед началом решения выполните следующую ячейку, чтобы загрузить необходимый для работы файл."
      ],
      "metadata": {
        "id": "OcK9kF9mfZIt"
      }
    },
    {
      "cell_type": "code",
      "execution_count": null,
      "metadata": {
        "id": "KtNBw8nOfPsB"
      },
      "outputs": [],
      "source": [
        "!wget https://gist.github.com/Vs8th/38d5d914171c84166728a9746d212bad/raw/auto_purchase.log"
      ]
    },
    {
      "cell_type": "markdown",
      "source": [
        "Чтобы посмотреть как он выглядит выполните следующую ячейку."
      ],
      "metadata": {
        "id": "JIwIK2E5fcyA"
      }
    },
    {
      "cell_type": "code",
      "source": [
        "with open('auto_purchase.log', 'r') as f:\n",
        "    lines = f.readlines()\n",
        "\n",
        "for line in lines[400:550]:\n",
        "    print(line)"
      ],
      "metadata": {
        "id": "6f84pObFfbGE",
        "collapsed": true
      },
      "execution_count": null,
      "outputs": []
    },
    {
      "cell_type": "markdown",
      "source": [
        "### **Решения**"
      ],
      "metadata": {
        "id": "CxmnD3GvffQ4"
      }
    },
    {
      "cell_type": "markdown",
      "source": [
        "#### **Задача 1**\n",
        "\n",
        "Ваша задача написать функцию `count_success_and_failure`, которая принимает на вход путь к файлу с логами и подсчитывает количество успешных продлений и ошибок при списании. Функция должна вернуть кортеж из двух значений: количества успешных попыток и неуспешных."
      ],
      "metadata": {
        "id": "5bdLXu2ksLB7"
      }
    },
    {
      "cell_type": "markdown",
      "source": [
        "**Решение**\n",
        "\n",
        "Напишите свое решение ниже"
      ],
      "metadata": {
        "id": "qUL4LtIUnJge"
      }
    },
    {
      "cell_type": "code",
      "source": [
        "\n",
        "def count_success_and_failure(file_path):\n",
        "  with open('auto_purchase.log', 'r') as f:\n",
        "    lines = f.readlines()\n",
        "    errors = [line for line in lines if line.startswith('ERROR')]\n",
        "    success = [line for line in lines if \"Обновляем подписку пользователю id:\" in line]\n",
        "    return len(success) - len(errors), len(errors)\n",
        "\n",
        "\n",
        "count_success_and_failure('auto_purchase.log')"
      ],
      "metadata": {
        "id": "Ia39hhmZbNRW"
      },
      "execution_count": null,
      "outputs": []
    },
    {
      "cell_type": "markdown",
      "source": [
        "✏️ ✏️ ✏️\n",
        "\n",
        "**Проверка**\n",
        "\n",
        "Чтобы проверить свое решение, запустите код в следующих ячейках"
      ],
      "metadata": {
        "id": "54Tvpn9OkDwV"
      }
    },
    {
      "cell_type": "code",
      "source": [
        "res = count_success_and_failure('auto_purchase.log')\n",
        "\n",
        "try:\n",
        "    assert res == (1034, 186)\n",
        "except AssertionError:\n",
        "    print('Ответы не совпадают')\n",
        "else:\n",
        "    print('Поздравляем, Вы справились!')"
      ],
      "metadata": {
        "id": "LkqzVw9skKEC"
      },
      "execution_count": null,
      "outputs": []
    },
    {
      "cell_type": "markdown",
      "source": [
        "#### **Задача 2**\n",
        "\n",
        "Ваша задача написать функцию `auto_renewal_sub`, которая принимает на вход путь к файлу с логами и обрабатывает количество клиентов с автопродлением подписки. Мы хотим посмотреть на изменение этого показателя в динамике: посчитайте сглаженные значения с помощью метода скользящего среднего и метода медианного сглаживания.  \n",
        "\n",
        "**Примечание:** При сглаживании берем все предыдущие значения, включая текущее, будущие значения не берем. Если в один день наблюдаем несколько записей об автопродлении - берем максимальное из имеющихся число клиентов с подпиской.\n",
        "\n",
        "Функция должна записать в файл `auto_renewal_sub.txt` два списка, предварив их соответствущими обозначениями:\n",
        "\n",
        "`Среднее: [2.0, 1.0, 0.67...]`\n",
        "\n",
        "`Медиана: [2, 2, 0...]`"
      ],
      "metadata": {
        "id": "QLNMvvhXoIdV"
      }
    },
    {
      "cell_type": "markdown",
      "source": [
        "**Решение**\n",
        "\n",
        "Напишите свое решение ниже"
      ],
      "metadata": {
        "id": "LThhpSINoMHN"
      }
    },
    {
      "cell_type": "code",
      "source": [
        "import re\n",
        "import statistics\n",
        "from datetime import datetime\n",
        "from collections import defaultdict\n",
        "from math import floor\n",
        "\n",
        "def auto_renewal_sub(log_file_path):\n",
        "\n",
        "    with open(log_file_path, 'r') as f:\n",
        "      lines = f.readlines()\n",
        "\n",
        "    date_values = {}\n",
        "    pattern = r'Cегодня (\\d{4}-\\d{2}-\\d{2}).*?подписки: (\\d+)'\n",
        "\n",
        "    for line in lines:\n",
        "      match = re.search(pattern, line)\n",
        "      if match:\n",
        "        date_str, count_str = match.groups()\n",
        "        date = datetime.strptime(date_str, '%Y-%m-%d').date()\n",
        "        count = int(count_str)\n",
        "\n",
        "        if date not in date_values or count > date_values[date]:\n",
        "          date_values[date] = count\n",
        "    values = list(date_values.values())\n",
        "    # Рассчитываем скольящие\n",
        "    moving_avg = []\n",
        "    moving_median = []\n",
        "\n",
        "    for i in range(len(values)):\n",
        "      window = values[:i+1]\n",
        "      mean_val = round(statistics.mean(window), 2)\n",
        "      moving_avg.append(float(mean_val))\n",
        "\n",
        "      median_val = statistics.median(window)\n",
        "      if median_val.is_integer():\n",
        "        moving_median.append(int(median_val))\n",
        "      else:\n",
        "        moving_median.append(floor(median_val))\n",
        "    # Записываем результаты\n",
        "    with open('auto_renewal_sub.txt', 'w') as f:\n",
        "      f.write(f\"Среднее: {moving_avg}\\n\")\n",
        "      f.write(f\"Медиана: {moving_median}\")\n",
        "\n",
        "auto_renewal_sub('auto_purchase.log')"
      ],
      "metadata": {
        "id": "9s8JBMlboJuf",
        "collapsed": true
      },
      "execution_count": null,
      "outputs": []
    },
    {
      "cell_type": "markdown",
      "source": [
        "✏️ ✏️ ✏️\n",
        "\n",
        "**Проверка**\n",
        "\n",
        "Чтобы проверить свое решение, запустите код в следующих ячейках"
      ],
      "metadata": {
        "id": "GN_PNZICsxRD"
      }
    },
    {
      "cell_type": "code",
      "source": [
        "# Здесь будет скачиваться файл с эталонным ответом\n",
        "\n",
        "!wget https://gist.github.com/Vs8th/846cbc97a722ab825cda4dda3b2b3434/raw/cor_auto_renewal.txt\n",
        "\n",
        "import pandas as pd\n",
        "\n",
        "user_answer = pd.read_csv('auto_renewal_sub.txt')\n",
        "correct_answer = pd.read_csv('cor_auto_renewal.txt')"
      ],
      "metadata": {
        "id": "tys9eJRSqcEW",
        "collapsed": true
      },
      "execution_count": null,
      "outputs": []
    },
    {
      "cell_type": "code",
      "source": [
        "# print(user_answer)\n",
        "# print(correct_answer)\n",
        "print(user_answer.columns)\n",
        "print('--')\n",
        "print(correct_answer.columns)"
      ],
      "metadata": {
        "id": "2yR6G2H5V_HW"
      },
      "execution_count": null,
      "outputs": []
    },
    {
      "cell_type": "code",
      "source": [
        "try:\n",
        "  assert (user_answer == correct_answer).all().all(), 'Ответы не совпадают'\n",
        "except Exception as err:\n",
        "  raise AssertionError(f'При проверке возникла ошибка {repr(err)}')\n",
        "else:\n",
        "  print('Поздравляем, Вы справились и успешно прошли все проверки!!')"
      ],
      "metadata": {
        "id": "a36bM9j9tD7l"
      },
      "execution_count": null,
      "outputs": []
    },
    {
      "cell_type": "markdown",
      "source": [
        "#### **Задача 3**\n",
        "\n",
        "Напишите функцию `sub_renewal_by_day`, которая принимает на вход путь к файлу с логами и анализирует взаимосвязь дня продления подписки и количества продлений в этот день. Функция должна записать в файл `weekdays.txt` аналитическую записку в формате:\n",
        "\n",
        "**`Количество обновлений подписки по дням недели:`**\n",
        "\n",
        "**`Понедельник: 6`**\n",
        "\n",
        "**`Вторник: 7`**\n",
        "\n",
        "**`Среда: 8`**\n",
        "\n",
        "**`...`**"
      ],
      "metadata": {
        "id": "AwB-HtPLtjyl"
      }
    },
    {
      "cell_type": "markdown",
      "source": [
        "**Решение**\n",
        "\n",
        "Напишите свое решение ниже"
      ],
      "metadata": {
        "id": "GOTB--hmt2xw"
      }
    },
    {
      "cell_type": "code",
      "source": [
        "\n",
        "def sub_renewal_by_day(file_path):\n",
        "\n",
        "    day_counts = defaultdict(int)\n",
        "    days_map = {\n",
        "        0: \"Понедельник\",\n",
        "        1: \"Вторник\",\n",
        "        2: \"Среда\",\n",
        "        3: \"Четверг\",\n",
        "        4: \"Пятница\",\n",
        "        5: \"Суббота\",\n",
        "        6: \"Воскресенье\"\n",
        "    }\n",
        "\n",
        "    with open(file_path, 'r') as f:\n",
        "      for line in f:\n",
        "        if 'Обновляем подписку пользователю' in line:\n",
        "          match = re.search(r'(\\d{4}-\\d{2}-\\d{2})', line)\n",
        "          date_obj = datetime.strptime(match.group(1), '%Y-%m-%d')\n",
        "          weekday = date_obj.weekday()\n",
        "          day_counts[weekday] += 1\n",
        "\n",
        "        elif line.startswith(\"ERROR\"):\n",
        "          match = re.search(r'(\\d{4}-\\d{2}-\\d{2})', line)\n",
        "          date_obj = datetime.strptime(match.group(1), '%Y-%m-%d')\n",
        "          weekday = date_obj.weekday()\n",
        "          day_counts[weekday] -= 1\n",
        "\n",
        "    # Записываем отчет\n",
        "    with open('weekdays.txt', 'w') as f:\n",
        "      f.write('Количество обновлений подписки по дням недели:\\n')\n",
        "      for i in range(7):\n",
        "        f.write(f'{days_map[i]}: {day_counts.get(i, 0)}\\n')\n",
        "sub_renewal_by_day('auto_purchase.log')"
      ],
      "metadata": {
        "id": "fz7nRb_ntKMv"
      },
      "execution_count": null,
      "outputs": []
    },
    {
      "cell_type": "markdown",
      "source": [
        "✏️ ✏️ ✏️\n",
        "\n",
        "**Проверка**\n",
        "\n",
        "Чтобы проверить свое решение, запустите код в следующих ячейках"
      ],
      "metadata": {
        "id": "0-7TiI06t8D0"
      }
    },
    {
      "cell_type": "code",
      "source": [
        "# Здесь будет скачиваться файл с эталонным ответом\n",
        "\n",
        "!wget https://gist.github.com/Vs8th/c4c382f50761b5b9e64795eb89d49fda/raw/cor_weekdays.txt\n",
        "\n",
        "import pandas as pd\n",
        "\n",
        "user_answer = pd.read_csv('weekdays.txt')\n",
        "correct_answer = pd.read_csv('cor_weekdays.txt')"
      ],
      "metadata": {
        "id": "eOzvKzYqt_UH"
      },
      "execution_count": null,
      "outputs": []
    },
    {
      "cell_type": "code",
      "source": [
        "try:\n",
        "  assert (user_answer == correct_answer).all().all(), 'Ответы не совпадают'\n",
        "except Exception as err:\n",
        "  raise AssertionError(f'При проверке возникла ошибка {repr(err)}')\n",
        "else:\n",
        "  print('Поздравляем, Вы справились и успешно прошли все проверки!!')"
      ],
      "metadata": {
        "id": "KzV-hUKcvxb2"
      },
      "execution_count": null,
      "outputs": []
    }
  ]
}