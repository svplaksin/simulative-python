{
  "nbformat": 4,
  "nbformat_minor": 0,
  "metadata": {
    "colab": {
      "provenance": [],
      "collapsed_sections": [
        "s2g2hxfMzqLo",
        "TbkdEVLI0Cor",
        "wxkhEVmF0PAo",
        "OrwoZ-wR0jJq"
      ],
      "include_colab_link": true
    },
    "kernelspec": {
      "name": "python3",
      "display_name": "Python 3"
    },
    "language_info": {
      "name": "python"
    }
  },
  "cells": [
    {
      "cell_type": "markdown",
      "metadata": {
        "id": "view-in-github",
        "colab_type": "text"
      },
      "source": [
        "<a href=\"https://colab.research.google.com/github/svplaksin/simulative-python/blob/main/%D0%A2%D1%80%D0%B5%D1%82%D0%B8%D0%B9_%D0%BA%D0%B5%D0%B9%D1%81.ipynb\" target=\"_parent\"><img src=\"https://colab.research.google.com/assets/colab-badge.svg\" alt=\"Open In Colab\"/></a>"
      ]
    },
    {
      "cell_type": "markdown",
      "source": [
        "## 3 кейс\n",
        "\n",
        "**В этом кейсе вы будете рассчитывать:**\n",
        "* retention\n",
        "* rolling retention\n",
        "* lifetime\n",
        "* churn rate\n",
        "* mau\n",
        "* wau\n",
        "* dau"
      ],
      "metadata": {
        "id": "T_xBU6WvyPhY"
      }
    },
    {
      "cell_type": "markdown",
      "source": [
        "**Важно**\n",
        "\n",
        "Перед началом решения задачи выполните следующую ячейку - в ней скачиваются нужные файлы"
      ],
      "metadata": {
        "id": "U2D5zGSdzc92"
      }
    },
    {
      "cell_type": "code",
      "execution_count": 1,
      "metadata": {
        "id": "3eJFMuMpyCp-",
        "colab": {
          "base_uri": "https://localhost:8080/"
        },
        "outputId": "a28f3699-d585-474d-8363-bbc3ee773832"
      },
      "outputs": [
        {
          "output_type": "stream",
          "name": "stdout",
          "text": [
            "--2025-08-20 13:12:39--  https://gist.github.com/Vs8th/739269a03f2f4a7396d04d6739da3771/raw/registrations.csv\n",
            "Resolving gist.github.com (gist.github.com)... 140.82.113.4\n",
            "Connecting to gist.github.com (gist.github.com)|140.82.113.4|:443... connected.\n",
            "HTTP request sent, awaiting response... 301 Moved Permanently\n",
            "Location: https://gist.githubusercontent.com/Vs8th/739269a03f2f4a7396d04d6739da3771/raw/registrations.csv [following]\n",
            "--2025-08-20 13:12:39--  https://gist.githubusercontent.com/Vs8th/739269a03f2f4a7396d04d6739da3771/raw/registrations.csv\n",
            "Resolving gist.githubusercontent.com (gist.githubusercontent.com)... 185.199.110.133, 185.199.111.133, 185.199.109.133, ...\n",
            "Connecting to gist.githubusercontent.com (gist.githubusercontent.com)|185.199.110.133|:443... connected.\n",
            "HTTP request sent, awaiting response... 200 OK\n",
            "Length: 14918 (15K) [text/plain]\n",
            "Saving to: ‘registrations.csv.1’\n",
            "\n",
            "registrations.csv.1 100%[===================>]  14.57K  --.-KB/s    in 0.001s  \n",
            "\n",
            "2025-08-20 13:12:39 (11.7 MB/s) - ‘registrations.csv.1’ saved [14918/14918]\n",
            "\n",
            "--2025-08-20 13:12:39--  https://gist.github.com/Vs8th/aacb80595d1d6aaa2e31eb735f8bc644/raw/entries.csv\n",
            "Resolving gist.github.com (gist.github.com)... 140.82.113.4\n",
            "Connecting to gist.github.com (gist.github.com)|140.82.113.4|:443... connected.\n",
            "HTTP request sent, awaiting response... 301 Moved Permanently\n",
            "Location: https://gist.githubusercontent.com/Vs8th/aacb80595d1d6aaa2e31eb735f8bc644/raw/entries.csv [following]\n",
            "--2025-08-20 13:12:39--  https://gist.githubusercontent.com/Vs8th/aacb80595d1d6aaa2e31eb735f8bc644/raw/entries.csv\n",
            "Resolving gist.githubusercontent.com (gist.githubusercontent.com)... 185.199.110.133, 185.199.111.133, 185.199.109.133, ...\n",
            "Connecting to gist.githubusercontent.com (gist.githubusercontent.com)|185.199.110.133|:443... connected.\n",
            "HTTP request sent, awaiting response... 200 OK\n",
            "Length: 308588 (301K) [text/plain]\n",
            "Saving to: ‘entries.csv.1’\n",
            "\n",
            "entries.csv.1       100%[===================>] 301.36K  --.-KB/s    in 0.05s   \n",
            "\n",
            "2025-08-20 13:12:40 (5.52 MB/s) - ‘entries.csv.1’ saved [308588/308588]\n",
            "\n",
            "--2025-08-20 13:12:40--  https://gist.github.com/Vs8th/0e827e9a608117345dd6585ab81e8c86/raw/metrics.txt\n",
            "Resolving gist.github.com (gist.github.com)... 140.82.113.4\n",
            "Connecting to gist.github.com (gist.github.com)|140.82.113.4|:443... connected.\n",
            "HTTP request sent, awaiting response... 301 Moved Permanently\n",
            "Location: https://gist.githubusercontent.com/Vs8th/0e827e9a608117345dd6585ab81e8c86/raw/metrics.txt [following]\n",
            "--2025-08-20 13:12:40--  https://gist.githubusercontent.com/Vs8th/0e827e9a608117345dd6585ab81e8c86/raw/metrics.txt\n",
            "Resolving gist.githubusercontent.com (gist.githubusercontent.com)... 185.199.110.133, 185.199.111.133, 185.199.109.133, ...\n",
            "Connecting to gist.githubusercontent.com (gist.githubusercontent.com)|185.199.110.133|:443... connected.\n",
            "HTTP request sent, awaiting response... 200 OK\n",
            "Length: 67 [text/plain]\n",
            "Saving to: ‘metrics.txt.1’\n",
            "\n",
            "metrics.txt.1       100%[===================>]      67  --.-KB/s    in 0s      \n",
            "\n",
            "2025-08-20 13:12:40 (1.41 MB/s) - ‘metrics.txt.1’ saved [67/67]\n",
            "\n"
          ]
        }
      ],
      "source": [
        "!wget https://gist.github.com/Vs8th/739269a03f2f4a7396d04d6739da3771/raw/registrations.csv\n",
        "\n",
        "!wget https://gist.github.com/Vs8th/aacb80595d1d6aaa2e31eb735f8bc644/raw/entries.csv\n",
        "\n",
        "!wget https://gist.github.com/Vs8th/0e827e9a608117345dd6585ab81e8c86/raw/metrics.txt"
      ]
    },
    {
      "cell_type": "markdown",
      "source": [
        "Файлами для работы являются `registrations.csv` и `entries.csv`. В них хранятся данные о регистрациях пользователей и входа на платформу соответственно."
      ],
      "metadata": {
        "id": "vnMFicli7Fa7"
      }
    },
    {
      "cell_type": "markdown",
      "source": [
        "### **Посчитайте Retention 15 дня (в процентах) для пользователей, зарегистрированных в январе**\n",
        "\n",
        "Cохраните результат в переменную `retention_15_day`\n",
        "\n",
        "**Примечание:** результат округлите до 5 знаков после запятой"
      ],
      "metadata": {
        "id": "s2g2hxfMzqLo"
      }
    },
    {
      "cell_type": "code",
      "source": [
        "import csv\n",
        "from datetime import datetime, timedelta\n",
        "from statistics import fmean"
      ],
      "metadata": {
        "id": "s44qLDQphC75"
      },
      "execution_count": 2,
      "outputs": []
    },
    {
      "cell_type": "code",
      "source": [
        "def parse_date(date_str):\n",
        "    # Парсим дату из строки в объект datetime\n",
        "    return datetime.strptime(date_str, '%Y-%m-%d')\n",
        "\n",
        "def calculate_retention(reg_file, login_file):\n",
        "    # Словарь для хранения дат регистрации пользователей\n",
        "    user_registrations = {}\n",
        "\n",
        "    # 1. Чтение файла с регистрациями\n",
        "    with open(reg_file, mode='r') as f:\n",
        "        reader = csv.reader(f, delimiter=';')\n",
        "        next(reader)  # пропускаем заголовок, если есть\n",
        "\n",
        "        for row in reader:\n",
        "            user_id, reg_date_str = row\n",
        "            reg_date = parse_date(reg_date_str)\n",
        "\n",
        "            # Отбираем  январских пользователей\n",
        "            if reg_date.month == 1:\n",
        "                user_registrations[user_id] = reg_date\n",
        "\n",
        "    # 2. Чтение файла с входами и подсчет пользователей, вошедших через 15 дней после регистрации\n",
        "    retained_users = set()\n",
        "\n",
        "    with open(login_file, mode='r') as f:\n",
        "        reader = csv.reader(f, delimiter=';')\n",
        "        next(reader)  # пропускаем заголовок, если есть\n",
        "\n",
        "        for row in reader:\n",
        "            user_id, login_date_str = row\n",
        "\n",
        "            # Проверяем, есть ли пользователь в нашем словаре регистраций\n",
        "            if user_id in user_registrations:\n",
        "                reg_date = user_registrations[user_id]\n",
        "                login_date = parse_date(login_date_str)\n",
        "\n",
        "                # Вычисляем разницу в днях между входом и регистрацией\n",
        "                delta = (login_date - reg_date).days\n",
        "\n",
        "                # Если пользователь вошел на 15 день после регистрации, добавляем его\n",
        "                if delta == 15:\n",
        "                    retained_users.add(user_id)\n",
        "\n",
        "    # 3. Расчет retention\n",
        "    total_january_users = len(user_registrations)\n",
        "    retained_count = len(retained_users)\n",
        "\n",
        "    if total_january_users == 0:\n",
        "        return 0.0  # чтобы избежать деления на ноль\n",
        "\n",
        "    retention_rate = round((retained_count / total_january_users) * 100, 5)\n",
        "    return retention_rate\n",
        "\n",
        "\n",
        "reg_file = 'registrations.csv'\n",
        "login_file = 'entries.csv'\n",
        "retention_15_day = calculate_retention(reg_file, login_file)\n",
        "print(f\"Retention 15 дня для январских пользователей: {retention_15_day}%\")"
      ],
      "metadata": {
        "colab": {
          "base_uri": "https://localhost:8080/"
        },
        "id": "ub0AMcxF2S1h",
        "outputId": "82d6fbec-ec00-4c83-9169-ec97d5ee37dc"
      },
      "execution_count": 3,
      "outputs": [
        {
          "output_type": "stream",
          "name": "stdout",
          "text": [
            "Retention 15 дня для январских пользователей: 54.65116%\n"
          ]
        }
      ]
    },
    {
      "cell_type": "code",
      "source": [
        "#@title ✏️ Проверка: чтобы проверить свое решение запустите код в этой ячейке\n",
        "# Открываем файл с правильными ответами\n",
        "with open('metrics.txt', 'r') as f:\n",
        "    answers = f.read().split('\\n')\n",
        "\n",
        "correct_answer = float(answers[0])\n",
        "\n",
        "try:\n",
        "    assert retention_15_day == correct_answer\n",
        "except AssertionError:\n",
        "    print('Ответы не совпадают')\n",
        "else:\n",
        "    print('Поздравляем, Вы справились!')"
      ],
      "metadata": {
        "id": "YGydKAis0Ae9",
        "colab": {
          "base_uri": "https://localhost:8080/"
        },
        "outputId": "6cfcfc60-e1c7-4336-f807-0948e8ef95cf"
      },
      "execution_count": 4,
      "outputs": [
        {
          "output_type": "stream",
          "name": "stdout",
          "text": [
            "Поздравляем, Вы справились!\n"
          ]
        }
      ]
    },
    {
      "cell_type": "markdown",
      "source": [
        "### **Посчитайте Rolling-retention 30 дня (в процентах) для пользователей из той же когорты**\n",
        "\n",
        "Сохраните результат в переменную `rolling_retention`\n",
        "\n",
        "**Примечание:** результат округлите до 5 знаков после запятой"
      ],
      "metadata": {
        "id": "TbkdEVLI0Cor"
      }
    },
    {
      "cell_type": "code",
      "source": [
        "import csv\n",
        "from datetime import datetime, timedelta\n",
        "\n",
        "def parse_date(date_str):\n",
        "    # Парсим дату из строки в объект datetime\n",
        "    return datetime.strptime(date_str, '%Y-%m-%d')\n",
        "\n",
        "def calculate_roll_retention(reg_file, login_file, n_day = 30, month = None):\n",
        "    # Словарь для хранения дат регистрации пользователей\n",
        "    user_registrations = {}\n",
        "\n",
        "    # 1. Чтение файла с регистрациями\n",
        "    with open(reg_file, mode='r') as f:\n",
        "        reader = csv.reader(f, delimiter=';')\n",
        "        next(reader)  # пропускаем заголовок, если есть\n",
        "\n",
        "        for row in reader:\n",
        "            user_id, reg_date_str = row\n",
        "            reg_date = parse_date(reg_date_str)\n",
        "\n",
        "            # Отбираем  январских пользователей\n",
        "            if month:\n",
        "              if reg_date.month == month:\n",
        "                user_registrations[user_id] = reg_date\n",
        "            else:\n",
        "              user_registrations[user_id] = reg_date\n",
        "\n",
        "    # 2. Чтение файла с входами и подсчет пользователей, вошедших через 15 дней после регистрации\n",
        "    retained_users = set()\n",
        "\n",
        "    with open(login_file, mode='r') as f:\n",
        "        reader = csv.reader(f, delimiter=';')\n",
        "        next(reader)  # пропускаем заголовок, если есть\n",
        "\n",
        "        for row in reader:\n",
        "            user_id, login_date_str = row\n",
        "\n",
        "            # Проверяем, есть ли пользователь в словаре регистраций\n",
        "            if user_id in user_registrations:\n",
        "                reg_date = user_registrations[user_id]\n",
        "                login_date = parse_date(login_date_str)\n",
        "\n",
        "                # Вычисляем разницу в днях между входом и регистрацией\n",
        "                delta = (login_date - reg_date).days\n",
        "\n",
        "                # Если пользователь вошел на 30 день после регистрации, или позднее, добавляем его\n",
        "                if delta >= n_day:\n",
        "                    retained_users.add(user_id)\n",
        "\n",
        "    # 3. Расчет retention\n",
        "    total_january_users = len(user_registrations)\n",
        "    retained_count = len(retained_users)\n",
        "\n",
        "    if total_january_users == 0:\n",
        "        return 0.0  # чтобы избежать деления на ноль\n",
        "\n",
        "    rolling_retention = round((retained_count / total_january_users) * 100, 5)\n",
        "    return rolling_retention\n",
        "\n",
        "\n",
        "reg_file = 'registrations.csv'\n",
        "login_file = 'entries.csv'\n",
        "rolling_retention = calculate_roll_retention(reg_file, login_file, n_day=30, month=1)\n",
        "print(f\"Rolling Retention 30 дня для январских пользователей: {rolling_retention}%\")\n"
      ],
      "metadata": {
        "id": "keCBmUDJ0Hho",
        "colab": {
          "base_uri": "https://localhost:8080/"
        },
        "outputId": "94411f24-088e-4efe-e107-c3ace0663d86"
      },
      "execution_count": 5,
      "outputs": [
        {
          "output_type": "stream",
          "name": "stdout",
          "text": [
            "Rolling Retention 30 дня для январских пользователей: 29.06977%\n"
          ]
        }
      ]
    },
    {
      "cell_type": "code",
      "source": [
        "#@title ✏️ Проверка: чтобы проверить свое решение запустите код в этой ячейке\n",
        "correct_answer = float(answers[1])\n",
        "\n",
        "try:\n",
        "    assert rolling_retention == correct_answer\n",
        "except AssertionError:\n",
        "    print('Ответы не совпадают')\n",
        "else:\n",
        "    print('Поздравляем, Вы справились!')"
      ],
      "metadata": {
        "id": "fTwUwQZ40JCl",
        "colab": {
          "base_uri": "https://localhost:8080/"
        },
        "outputId": "89301b7c-9696-4b0f-fe2e-6f33858689c3",
        "cellView": "form"
      },
      "execution_count": 6,
      "outputs": [
        {
          "output_type": "stream",
          "name": "stdout",
          "text": [
            "Поздравляем, Вы справились!\n"
          ]
        }
      ]
    },
    {
      "cell_type": "markdown",
      "source": [
        "### **Посчитайте Lifetime по всем пользователям, посчитанный как интеграл от n-day retention**\n",
        "\n",
        "Сохраните результат в переменную `lifetime`\n",
        "\n",
        "**Примечание:** результат округлите до 5 знаков после запятой"
      ],
      "metadata": {
        "id": "wxkhEVmF0PAo"
      }
    },
    {
      "cell_type": "code",
      "source": [
        "from collections import defaultdict\n",
        "\n",
        "def calculate_ltv(reg_file, login_file):\n",
        "  user_registrations = {}\n",
        "\n",
        "  with open(reg_file, 'r') as f:\n",
        "    reader = csv.reader(f, delimiter=';')\n",
        "    next(reader)\n",
        "\n",
        "    for row in reader:\n",
        "      user_id, reg_date_str = row\n",
        "      reg_date = parse_date(reg_date_str)\n",
        "      user_registrations[user_id] = reg_date\n",
        "\n",
        "  # Находим для  каждого юзера все дни активности\n",
        "  user_active_days = defaultdict(set)\n",
        "\n",
        "  with open(login_file, 'r') as f:\n",
        "    reader = csv.reader(f, delimiter=';')\n",
        "    next(reader)\n",
        "    for row in reader:\n",
        "      user_id, login_date_str = row\n",
        "      if user_id in user_registrations:\n",
        "        reg_date = user_registrations[user_id]\n",
        "        login_date = parse_date(login_date_str)\n",
        "        delta_days = (login_date - reg_date).days\n",
        "        if delta_days >= 0:\n",
        "          user_active_days[user_id].add(delta_days)\n",
        "  # Считаем LTV\n",
        "  total_users = len(user_registrations)\n",
        "  retention_by_day = defaultdict(int)\n",
        "\n",
        "  for user_id, active_days in user_active_days.items():\n",
        "    for day in active_days:\n",
        "      retention_by_day[day] += 1\n",
        "  # Retention для каждого дня в долях\n",
        "  retention_rates = {day: round(count / total_users, 5) for day, count in retention_by_day.items()}\n",
        "  lifetime = round(sum(retention_rates.values()),5)\n",
        "  return lifetime\n",
        "\n",
        "\n",
        "lifetime = calculate_ltv(reg_file, login_file)"
      ],
      "metadata": {
        "id": "KS17l5Ux0UD3"
      },
      "execution_count": 7,
      "outputs": []
    },
    {
      "cell_type": "code",
      "source": [
        "#@title ✏️ Проверка: чтобы проверить свое решение запустите код в этой ячейке\n",
        "correct_answer = float(answers[2])\n",
        "\n",
        "try:\n",
        "    assert lifetime == correct_answer\n",
        "except AssertionError:\n",
        "    print('Ответы не совпадают')\n",
        "else:\n",
        "    print('Поздравляем, Вы справились!')"
      ],
      "metadata": {
        "cellView": "form",
        "id": "k7s0V8hF0Vmx",
        "colab": {
          "base_uri": "https://localhost:8080/"
        },
        "outputId": "ef3f1bb7-e8ac-4116-bf6d-c3cae295ec3d"
      },
      "execution_count": 8,
      "outputs": [
        {
          "output_type": "stream",
          "name": "stdout",
          "text": [
            "Поздравляем, Вы справились!\n"
          ]
        }
      ]
    },
    {
      "cell_type": "markdown",
      "source": [
        "### **Посчитайте Churn rate 29 дня (в долях), посчитанный по всем пользователям**\n",
        "\n",
        "Сохраните результат в переменную `churn_29`.  \n",
        "Если будете считать CR от Retention, ведите расчет от Rolling Retention, таким образом, мы получим всех, кто не заходил в 29 день и после. Ведя расчет от обычного Retention, наоборот - получим только CR в 29 день.\n"
      ],
      "metadata": {
        "id": "OrwoZ-wR0jJq"
      }
    },
    {
      "cell_type": "code",
      "source": [
        "churn_29 = 1 - calculate_roll_retention(reg_file, login_file, 29) / 100"
      ],
      "metadata": {
        "id": "hKN7vidq0mJ3"
      },
      "execution_count": 9,
      "outputs": []
    },
    {
      "cell_type": "code",
      "source": [
        "#@title ✏️ Проверка: чтобы проверить свое решение запустите код в этой ячейке\n",
        "correct_answer = float(answers[3])\n",
        "\n",
        "try:\n",
        "    assert churn_29 == correct_answer\n",
        "except AssertionError:\n",
        "    print('Ответы не совпадают')\n",
        "else:\n",
        "    print('Поздравляем, Вы справились!')"
      ],
      "metadata": {
        "cellView": "form",
        "id": "14KnR1gD0ou9",
        "colab": {
          "base_uri": "https://localhost:8080/"
        },
        "outputId": "c2d734c5-de2d-4111-e507-16e468d2ea66"
      },
      "execution_count": 10,
      "outputs": [
        {
          "output_type": "stream",
          "name": "stdout",
          "text": [
            "Поздравляем, Вы справились!\n"
          ]
        }
      ]
    },
    {
      "cell_type": "markdown",
      "source": [
        "### **Посчитайте Mau, Wau, Dau за последний месяц/неделю/день записей**\n",
        "\n",
        "Сохраните результат в переменные `dec_mau`, `dec_wau`, `dec_dau` соответственно\n",
        "\n",
        "**Примечание:** последний месяц записей - декабрь. Поэтому `mau` рассчитываем для декабря (2021 года), для `wau` берем последнюю неделю - с 25 по 31 декабря, и для `dau` соответственно последний день - 31 декабря."
      ],
      "metadata": {
        "id": "QuO3ZwRI5mdH"
      }
    },
    {
      "cell_type": "code",
      "source": [
        "def calculate_active_users(login_file, month=False, week=False, day=False):\n",
        "  with open(login_file, 'r') as f:\n",
        "    reader = csv.reader(f, delimiter=';')\n",
        "    next(reader)\n",
        "\n",
        "    active_users = set()\n",
        "    for row in reader:\n",
        "      user_id, date_str = row\n",
        "      date = parse_date(date_str)\n",
        "      if month:\n",
        "        if date.month == month:\n",
        "          active_users.add(user_id)\n",
        "      if week:\n",
        "        if date >= datetime(2021, 12, 25):\n",
        "          active_users.add(user_id)\n",
        "      if day:\n",
        "        if date >= datetime(2021, 12, 31):\n",
        "          active_users.add(user_id)\n",
        "    return len(active_users)\n",
        "\n",
        "dec_mau = calculate_active_users(login_file, month=12)\n",
        "dec_mau"
      ],
      "metadata": {
        "id": "HxGWkaSp5kpo",
        "colab": {
          "base_uri": "https://localhost:8080/"
        },
        "outputId": "bae15855-ff6e-434f-f8ca-452c2c93ada5"
      },
      "execution_count": 11,
      "outputs": [
        {
          "output_type": "execute_result",
          "data": {
            "text/plain": [
              "133"
            ]
          },
          "metadata": {},
          "execution_count": 11
        }
      ]
    },
    {
      "cell_type": "code",
      "source": [
        "#@title ✏️ Проверка: чтобы проверить свое решение запустите код в этой ячейке\n",
        "correct_answer = float(answers[4])\n",
        "\n",
        "try:\n",
        "    assert dec_mau == correct_answer\n",
        "except AssertionError:\n",
        "    print('Ответы не совпадают')\n",
        "else:\n",
        "    print('Поздравляем, Вы справились!')"
      ],
      "metadata": {
        "cellView": "form",
        "id": "dpK4clbe5xiH",
        "colab": {
          "base_uri": "https://localhost:8080/"
        },
        "outputId": "fe3ca279-f12b-4c04-da85-07612308962e"
      },
      "execution_count": 12,
      "outputs": [
        {
          "output_type": "stream",
          "name": "stdout",
          "text": [
            "Поздравляем, Вы справились!\n"
          ]
        }
      ]
    },
    {
      "cell_type": "code",
      "source": [
        "dec_wau = calculate_active_users(login_file, week=True)\n",
        "dec_wau"
      ],
      "metadata": {
        "id": "urEWcCuk522y",
        "colab": {
          "base_uri": "https://localhost:8080/"
        },
        "outputId": "5120935b-8736-440b-83f9-4d53d498baf7"
      },
      "execution_count": 13,
      "outputs": [
        {
          "output_type": "execute_result",
          "data": {
            "text/plain": [
              "84"
            ]
          },
          "metadata": {},
          "execution_count": 13
        }
      ]
    },
    {
      "cell_type": "code",
      "source": [
        "#@title ✏️ Проверка: чтобы проверить свое решение запустите код в этой ячейке\n",
        "correct_answer = float(answers[5])\n",
        "\n",
        "try:\n",
        "    assert dec_wau == correct_answer\n",
        "except AssertionError:\n",
        "    print('Ответы не совпадают')\n",
        "else:\n",
        "    print('Поздравляем, Вы справились!')"
      ],
      "metadata": {
        "cellView": "form",
        "id": "xziXbjnJ549b",
        "colab": {
          "base_uri": "https://localhost:8080/"
        },
        "outputId": "18da2eb8-c751-4112-e3f9-d08fd752c0a2"
      },
      "execution_count": 14,
      "outputs": [
        {
          "output_type": "stream",
          "name": "stdout",
          "text": [
            "Поздравляем, Вы справились!\n"
          ]
        }
      ]
    },
    {
      "cell_type": "code",
      "source": [
        "dec_dau = calculate_active_users(login_file, day=True)\n",
        "dec_dau"
      ],
      "metadata": {
        "id": "hv7Nz3TN59Ds",
        "colab": {
          "base_uri": "https://localhost:8080/"
        },
        "outputId": "47f9f28e-5e92-481d-f6a7-814feb8a584f"
      },
      "execution_count": 15,
      "outputs": [
        {
          "output_type": "execute_result",
          "data": {
            "text/plain": [
              "47"
            ]
          },
          "metadata": {},
          "execution_count": 15
        }
      ]
    },
    {
      "cell_type": "code",
      "source": [
        "#@title ✏️ Проверка: чтобы проверить свое решение запустите код в этой ячейке\n",
        "correct_answer = float(answers[6])\n",
        "\n",
        "try:\n",
        "    assert dec_dau == correct_answer\n",
        "except AssertionError:\n",
        "    print('Ответы не совпадают')\n",
        "else:\n",
        "    print('Поздравляем, Вы справились!')"
      ],
      "metadata": {
        "cellView": "form",
        "id": "1csOLxor5_ox",
        "colab": {
          "base_uri": "https://localhost:8080/"
        },
        "outputId": "7a685db6-edff-4425-deed-d40ac4f42dc5"
      },
      "execution_count": 16,
      "outputs": [
        {
          "output_type": "stream",
          "name": "stdout",
          "text": [
            "Поздравляем, Вы справились!\n"
          ]
        }
      ]
    },
    {
      "cell_type": "markdown",
      "source": [
        "### **Посчитайте Mau, Wau, Dau усредненные**\n",
        "\n",
        "Сохраните результат в переменные `avg_mau`, `avg_wau`, `avg_dau` соответственно\n",
        "\n",
        "**Примечание:** результаты округлите до 5 знаков после запятой"
      ],
      "metadata": {
        "id": "gzElxXgv6Dyr"
      }
    },
    {
      "cell_type": "code",
      "source": [
        "def calculate_active_users(login_file, month=None, week=False, day=False, average = False):\n",
        "  with open(login_file, 'r') as f:\n",
        "    reader = csv.reader(f, delimiter=';')\n",
        "    next(reader)\n",
        "\n",
        "    active_users = {m: set() for m in range(1, 13)}\n",
        "    for row in reader:\n",
        "      user_id, date_str = row\n",
        "      date = parse_date(date_str)\n",
        "      if month:\n",
        "        active_users[date.month].add(user_id)\n",
        "    active_users = {x: len(y) for x,y in active_users.items()}\n",
        "    average = round(fmean(active_users.values()), 5)\n",
        "    return average\n",
        "\n",
        "\n",
        "avg_mau = calculate_active_users(login_file, month=True, average=True)\n",
        "avg_mau"
      ],
      "metadata": {
        "id": "mUDYPPqx6RPr",
        "colab": {
          "base_uri": "https://localhost:8080/"
        },
        "outputId": "90c2d6ee-76fc-4244-b4ba-20aefb6f0491"
      },
      "execution_count": 17,
      "outputs": [
        {
          "output_type": "execute_result",
          "data": {
            "text/plain": [
              "102.58333"
            ]
          },
          "metadata": {},
          "execution_count": 17
        }
      ]
    },
    {
      "cell_type": "code",
      "source": [
        "#@title ✏️ Проверка: чтобы проверить свое решение запустите код в этой ячейке\n",
        "correct_answer = float(answers[7])\n",
        "\n",
        "try:\n",
        "    assert avg_mau == correct_answer\n",
        "except AssertionError:\n",
        "    print('Ответы не совпадают')\n",
        "else:\n",
        "    print('Поздравляем, Вы справились!')"
      ],
      "metadata": {
        "cellView": "form",
        "id": "CfikZaBu6V9_",
        "colab": {
          "base_uri": "https://localhost:8080/"
        },
        "outputId": "2facf23c-cc20-46db-8294-923fa4043304"
      },
      "execution_count": 18,
      "outputs": [
        {
          "output_type": "stream",
          "name": "stdout",
          "text": [
            "Поздравляем, Вы справились!\n"
          ]
        }
      ]
    },
    {
      "cell_type": "code",
      "source": [
        "from statistics import fmean\n",
        "def calculate_avg_wau(login_file):\n",
        "  with open(login_file, 'r') as f:\n",
        "    reader = csv.reader(f, delimiter=';')\n",
        "    next(reader)\n",
        "\n",
        "    active_users = {m: set() for m in range(1, 54)}\n",
        "    for row in reader:\n",
        "      user_id, date_str = row\n",
        "      week_number = parse_date(date_str).isocalendar().week\n",
        "      active_users[week_number].add(user_id)\n",
        "    active_users = {x: len(y) for x,y in active_users.items()}\n",
        "    average = round(fmean(active_users.values()), 5)\n",
        "    return average\n",
        "\n",
        "\n",
        "avg_wau = calculate_avg_wau(login_file)\n",
        "\n",
        "avg_wau"
      ],
      "metadata": {
        "id": "WydV9g9C6x7O",
        "colab": {
          "base_uri": "https://localhost:8080/"
        },
        "outputId": "d5cbc3c2-f4bc-4a26-d2e5-c25f6a4c8a01"
      },
      "execution_count": 19,
      "outputs": [
        {
          "output_type": "execute_result",
          "data": {
            "text/plain": [
              "89.86792"
            ]
          },
          "metadata": {},
          "execution_count": 19
        }
      ]
    },
    {
      "cell_type": "code",
      "source": [
        "#@title ✏️ Проверка: чтобы проверить свое решение запустите код в этой ячейке\n",
        "correct_answer = float(answers[8])\n",
        "\n",
        "try:\n",
        "    assert avg_wau == correct_answer\n",
        "except AssertionError:\n",
        "    print('Ответы не совпадают')\n",
        "else:\n",
        "    print('Поздравляем, Вы справились!')"
      ],
      "metadata": {
        "cellView": "form",
        "id": "qbZgzDpV6zUl",
        "colab": {
          "base_uri": "https://localhost:8080/"
        },
        "outputId": "fa75993c-578d-42cd-cca8-f663a938d54f"
      },
      "execution_count": 20,
      "outputs": [
        {
          "output_type": "stream",
          "name": "stdout",
          "text": [
            "Поздравляем, Вы справились!\n"
          ]
        }
      ]
    },
    {
      "cell_type": "code",
      "source": [
        "from statistics import fmean\n",
        "def calculate_avg_dau(login_file):\n",
        "  with open(login_file, 'r') as f:\n",
        "    reader = csv.reader(f, delimiter=';')\n",
        "    next(reader)\n",
        "\n",
        "    active_users = {m: set() for m in range(1, 366)}\n",
        "    for row in reader:\n",
        "      user_id, date_str = row\n",
        "      day_number = parse_date(date_str).timetuple().tm_yday\n",
        "      active_users[day_number].add(user_id)\n",
        "    active_users = {x: len(y) for x,y in active_users.items()}\n",
        "    average = round(fmean(active_users.values()), 5)\n",
        "    return average\n",
        "\n",
        "\n",
        "avg_dau = calculate_avg_dau(login_file)\n",
        "\n",
        "avg_dau"
      ],
      "metadata": {
        "id": "NgqOR38d64_T",
        "colab": {
          "base_uri": "https://localhost:8080/"
        },
        "outputId": "1016a282-0890-4dea-cecb-765edb4a5506"
      },
      "execution_count": 21,
      "outputs": [
        {
          "output_type": "execute_result",
          "data": {
            "text/plain": [
              "40.5589"
            ]
          },
          "metadata": {},
          "execution_count": 21
        }
      ]
    },
    {
      "cell_type": "code",
      "source": [
        "#@title ✏️ Проверка: чтобы проверить свое решение запустите код в этой ячейке\n",
        "correct_answer = float(answers[9])\n",
        "\n",
        "try:\n",
        "    assert avg_dau == correct_answer\n",
        "except AssertionError:\n",
        "    print('Ответы не совпадают')\n",
        "else:\n",
        "    print('Поздравляем, Вы справились!')"
      ],
      "metadata": {
        "id": "TbmDR4NP66qm",
        "cellView": "form",
        "colab": {
          "base_uri": "https://localhost:8080/"
        },
        "outputId": "b57dd829-9905-4f6f-a14b-3ff6b470f244"
      },
      "execution_count": 22,
      "outputs": [
        {
          "output_type": "stream",
          "name": "stdout",
          "text": [
            "Поздравляем, Вы справились!\n"
          ]
        }
      ]
    }
  ]
}